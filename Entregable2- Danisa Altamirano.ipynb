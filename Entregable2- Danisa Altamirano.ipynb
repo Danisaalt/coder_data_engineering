{
 "cells": [
  {
   "cell_type": "code",
   "execution_count": 1,
   "id": "56194fa8-fd04-450f-a289-3a58abea31f1",
   "metadata": {
    "tags": []
   },
   "outputs": [],
   "source": [
    "#Para evitar la descarga local del archivo, conecto la API de Kaggle, para luego descargar el dataset y guardarlo en el drive.\n",
    "! pip install -q kaggle"
   ]
  },
  {
   "cell_type": "code",
   "execution_count": 4,
   "id": "e97bdc38-c4d5-4b33-b52c-0603eb7d0882",
   "metadata": {
    "tags": []
   },
   "outputs": [],
   "source": [
    "#Creacion del directorio\n",
    "! mkdir ~/.kaggle"
   ]
  },
  {
   "cell_type": "code",
   "execution_count": 5,
   "id": "5203f9b6-af93-4ccc-8812-ce94bd4deee5",
   "metadata": {
    "tags": []
   },
   "outputs": [],
   "source": [
    "! cp kaggle.json ~/.kaggle/\n"
   ]
  },
  {
   "cell_type": "code",
   "execution_count": 6,
   "id": "e8e27d94-1e98-40a3-855f-f21fd26140be",
   "metadata": {
    "tags": []
   },
   "outputs": [],
   "source": [
    "#Cambio los permisos para que me permita leer las credenciales\n",
    "!chmod 600 ~/.kaggle/kaggle.json"
   ]
  },
  {
   "cell_type": "code",
   "execution_count": 1,
   "id": "c0d1c5b2-a50d-4205-b8a6-9d83c6b85b01",
   "metadata": {
    "tags": []
   },
   "outputs": [
    {
     "name": "stdout",
     "output_type": "stream",
     "text": [
      "ref                                                                   title                                                size  lastUpdated          downloadCount  voteCount  usabilityRating  \n",
      "--------------------------------------------------------------------  --------------------------------------------------  -----  -------------------  -------------  ---------  ---------------  \n",
      "arnabchaki/data-science-salaries-2023                                 Data Science Salaries 2023 💸                         25KB  2023-04-13 09:55:16          30818        844  1.0              \n",
      "tawfikelmetwally/automobile-dataset                                   Car information dataset                               6KB  2023-05-28 18:26:48           3232         88  0.9411765        \n",
      "fatihb/coffee-quality-data-cqi                                        Coffee Quality Data (CQI May-2023)                   22KB  2023-05-12 13:06:39           5559        114  1.0              \n",
      "mohithsairamreddy/salary-data                                         Salary_Data                                          17KB  2023-05-18 14:05:19           5494        107  0.88235295       \n",
      "mauryansshivam/netflix-ott-revenue-and-subscribers-csv-file           Netflix OTT Revenue and Subscribers (CSV File)        2KB  2023-05-13 17:40:23           2736         62  1.0              \n",
      "omarsobhy14/mcdonalds-revenue                                         🍟💰From Flipping Burgers to Billions: McDonald's      565B  2023-06-01 23:22:49            658         30  1.0              \n",
      "drahulsingh/list-of-best-selling-ps4-games                            List of best-selling PlayStation 4 video games        2KB  2023-06-11 17:36:59            609         23  1.0              \n",
      "zsinghrahulk/rice-pest-and-diseases                                   Rice - Pest and Diseases                            312KB  2023-06-01 08:57:29            672         29  1.0              \n",
      "iammustafatz/diabetes-prediction-dataset                              Diabetes prediction dataset                         734KB  2023-04-08 06:11:45          16104        237  1.0              \n",
      "vstacknocopyright/fruit-and-vegetable-prices                          Fruit and Vegetable Prices                            1KB  2023-06-02 06:17:43           1084         32  0.7647059        \n",
      "bilalwaseer/microsoft-stocks-from-1986-to-2023                        Microsoft Stocks from 1986 to 2023                  120KB  2023-05-16 10:07:28           1051         30  1.0              \n",
      "darshanprabhu09/stock-prices-for                                      Stock prices of Amazon , Microsoft , Google, Apple   85KB  2023-05-16 15:17:16           2137         46  1.0              \n",
      "rajkumarpandey02/2023-world-population-by-country                      World Population by Country                         38KB  2023-06-01 06:10:41           2007         39  1.0              \n",
      "danishjmeo/karachi-housing-prices-2023                                Karachi_Housing_Prices_2023                           1MB  2023-06-01 07:08:13            547         28  0.9411765        \n",
      "adityaramachandran27/world-air-quality-index-by-city-and-coordinates  World Air Quality Index by City and Coordinates     372KB  2023-05-07 07:29:26           2113         45  1.0              \n",
      "dansbecker/melbourne-housing-snapshot                                 Melbourne Housing Snapshot                          451KB  2018-06-05 12:52:24         117909       1283  0.7058824        \n",
      "pushpakhinglaspure/oscar-dataset                                      Oscar Academy Award-winning films 1927-2022         161KB  2023-05-21 18:14:44            906         32  1.0              \n",
      "aryansingh0909/weekly-patent-application-granted                      Patent Application Granted Dataset                    6MB  2023-06-01 19:04:40            403         24  1.0              \n",
      "krishnaraj30/salary-prediction-data-simple-linear-regression          Salary Prediction Data - Simple linear regression    734B  2023-06-05 01:05:41            509         25  1.0              \n",
      "utkarshx27/heart-disease-diagnosis-dataset                            Heart Disease Prediction Dataset                      3KB  2023-05-26 09:33:13           1449         37  1.0              \n"
     ]
    }
   ],
   "source": [
    "#Pruebo que funcione, listando los datasets\n",
    "! kaggle datasets list\n"
   ]
  },
  {
   "cell_type": "code",
   "execution_count": 2,
   "id": "d5787c18-e148-41a8-ac4d-6ce36481ea26",
   "metadata": {
    "tags": []
   },
   "outputs": [
    {
     "name": "stdout",
     "output_type": "stream",
     "text": [
      "Downloading starbucks-nutrition.zip to /home/coder/working_dir\n",
      "  0%|                                               | 0.00/1.81k [00:00<?, ?B/s]\n",
      "100%|███████████████████████████████████████| 1.81k/1.81k [00:00<00:00, 629kB/s]\n"
     ]
    }
   ],
   "source": [
    "#Descargo uno de los datasets\n",
    "! kaggle datasets download -d utkarshx27/starbucks-nutrition"
   ]
  },
  {
   "cell_type": "code",
   "execution_count": 32,
   "id": "9172bb0c-edef-4626-9b50-b07ab37772b7",
   "metadata": {
    "tags": []
   },
   "outputs": [
    {
     "name": "stdout",
     "output_type": "stream",
     "text": [
      "Requirement already satisfied: psycopg2-binary in /opt/conda/lib/python3.10/site-packages (2.9.6)\n"
     ]
    }
   ],
   "source": [
    "!pip install psycopg2-binary"
   ]
  },
  {
   "cell_type": "code",
   "execution_count": 33,
   "id": "ad580b6d-5598-443d-98a1-5ba5ead1b092",
   "metadata": {
    "tags": []
   },
   "outputs": [],
   "source": [
    "import os\n",
    "import psycopg2\n",
    "\n",
    "\n",
    "from pyspark.sql import SparkSession\n",
    "from pyspark.sql.functions import when, lit, col"
   ]
  },
  {
   "cell_type": "code",
   "execution_count": 34,
   "id": "4588bab8-1bc2-4c31-904c-9bcdaf28a3f4",
   "metadata": {
    "tags": []
   },
   "outputs": [],
   "source": [
    "driver_path = \"/home/coder/working_dir/driver_jdbc/postgresql-42.5.2.jar\"\n"
   ]
  },
  {
   "cell_type": "code",
   "execution_count": 35,
   "id": "b8cb64e3-4db3-45f1-aaa1-36d71793002e",
   "metadata": {
    "tags": []
   },
   "outputs": [],
   "source": [
    "os.environ['PYSPARK_SUBMIT_ARGS'] = f'--driver-class-path {driver_path} --jars {driver_path} pyspark-shell'\n",
    "os.environ['SPARK_CLASSPATH'] = driver_path"
   ]
  },
  {
   "cell_type": "code",
   "execution_count": 36,
   "id": "06fc4b7e-f285-4e75-a1bc-5412f6ceebd3",
   "metadata": {
    "tags": []
   },
   "outputs": [],
   "source": [
    "spark = SparkSession.builder \\\n",
    "        .master(\"local\") \\\n",
    "        .appName(\"Conexion entre Pyspark y Redshift\") \\\n",
    "        .config(\"spark.jars\", driver_path) \\\n",
    "        .config(\"spark.executor.extraClassPath\", driver_path) \\\n",
    "        .getOrCreate()"
   ]
  },
  {
   "cell_type": "code",
   "execution_count": 37,
   "id": "9b080619-270b-4d07-8ec6-43a4cc53b27a",
   "metadata": {
    "tags": []
   },
   "outputs": [],
   "source": [
    "env = os.environ"
   ]
  },
  {
   "cell_type": "code",
   "execution_count": 38,
   "id": "b84c0445-601f-4706-b0fe-6069fa159a85",
   "metadata": {
    "tags": []
   },
   "outputs": [],
   "source": [
    "#Dataframe\n",
    "df = spark.read.csv(\"/home/coder/working_dir/starbucks.csv\", sep=\",\", header=True)\n"
   ]
  },
  {
   "cell_type": "code",
   "execution_count": 39,
   "id": "8513f69f-1a91-4897-b9b4-3afb5d55317b",
   "metadata": {
    "tags": []
   },
   "outputs": [
    {
     "name": "stdout",
     "output_type": "stream",
     "text": [
      "+---+--------------------+--------+---+----+-----+-------+------+\n",
      "|_c0|                item|calories|fat|carb|fiber|protein|  type|\n",
      "+---+--------------------+--------+---+----+-----+-------+------+\n",
      "|  1|        8-Grain Roll|     350|  8|  67|    5|     10|bakery|\n",
      "|  2|   Apple Bran Muffin|     350|  9|  64|    7|      6|bakery|\n",
      "|  3|       Apple Fritter|     420| 20|  59|    0|      5|bakery|\n",
      "|  4|     Banana Nut Loaf|     490| 19|  75|    4|      7|bakery|\n",
      "|  5|Birthday Cake Min...|     130|  6|  17|    0|      0|bakery|\n",
      "|  6|   Blueberry Oat Bar|     370| 14|  47|    5|      6|bakery|\n",
      "|  7|     Blueberry Scone|     460| 22|  61|    2|      7|bakery|\n",
      "|  8|Bountiful Blueber...|     370| 14|  55|    0|      6|bakery|\n",
      "|  9|   Butter Croissant |     310| 18|  32|    0|      5|bakery|\n",
      "| 10|       Cheese Danish|     420| 25|  39|    0|      7|bakery|\n",
      "| 11|Chocolate Chunk C...|     380| 17|  51|    2|      4|bakery|\n",
      "| 12|Chocolate Cinnamo...|     320| 12|  53|    3|      6|bakery|\n",
      "| 13| Chocolate Croissant|     300| 17|  34|    2|      5|bakery|\n",
      "| 14|Chocolate Old-Fas...|     420| 21|  57|    2|      5|bakery|\n",
      "| 15|        Chonga Bagel|     310|  5|  52|    3|     12|bakery|\n",
      "| 16| Cinnamon Chip Scone|     480| 18|  70|    3|      7|bakery|\n",
      "| 17|Cranberry Orange ...|     490| 18|  73|    2|      8|bakery|\n",
      "| 18|Double Chocolate ...|     410| 24|  46|    3|      6|bakery|\n",
      "| 19|Double Fudge Mini...|     130|  7|  16|    0|      0|bakery|\n",
      "| 20|Everything with C...|     280|  2|  56|    2|     10|bakery|\n",
      "+---+--------------------+--------+---+----+-----+-------+------+\n",
      "only showing top 20 rows\n",
      "\n"
     ]
    }
   ],
   "source": [
    "df.show()"
   ]
  },
  {
   "cell_type": "code",
   "execution_count": 41,
   "id": "ac8a93ce-a2d2-4037-8893-9d4ba87c78d0",
   "metadata": {
    "tags": []
   },
   "outputs": [
    {
     "name": "stdout",
     "output_type": "stream",
     "text": [
      "root\n",
      " |-- id: string (nullable = true)\n",
      " |-- item: string (nullable = true)\n",
      " |-- calories: string (nullable = true)\n",
      " |-- fat: string (nullable = true)\n",
      " |-- carb: string (nullable = true)\n",
      " |-- fiber: string (nullable = true)\n",
      " |-- protein: string (nullable = true)\n",
      " |-- type: string (nullable = true)\n",
      "\n",
      "+---+--------------------+--------+---+----+-----+-------+------+\n",
      "| id|                item|calories|fat|carb|fiber|protein|  type|\n",
      "+---+--------------------+--------+---+----+-----+-------+------+\n",
      "|  1|        8-Grain Roll|     350|  8|  67|    5|     10|bakery|\n",
      "|  2|   Apple Bran Muffin|     350|  9|  64|    7|      6|bakery|\n",
      "|  3|       Apple Fritter|     420| 20|  59|    0|      5|bakery|\n",
      "|  4|     Banana Nut Loaf|     490| 19|  75|    4|      7|bakery|\n",
      "|  5|Birthday Cake Min...|     130|  6|  17|    0|      0|bakery|\n",
      "|  6|   Blueberry Oat Bar|     370| 14|  47|    5|      6|bakery|\n",
      "|  7|     Blueberry Scone|     460| 22|  61|    2|      7|bakery|\n",
      "|  8|Bountiful Blueber...|     370| 14|  55|    0|      6|bakery|\n",
      "|  9|   Butter Croissant |     310| 18|  32|    0|      5|bakery|\n",
      "| 10|       Cheese Danish|     420| 25|  39|    0|      7|bakery|\n",
      "| 11|Chocolate Chunk C...|     380| 17|  51|    2|      4|bakery|\n",
      "| 12|Chocolate Cinnamo...|     320| 12|  53|    3|      6|bakery|\n",
      "| 13| Chocolate Croissant|     300| 17|  34|    2|      5|bakery|\n",
      "| 14|Chocolate Old-Fas...|     420| 21|  57|    2|      5|bakery|\n",
      "| 15|        Chonga Bagel|     310|  5|  52|    3|     12|bakery|\n",
      "| 16| Cinnamon Chip Scone|     480| 18|  70|    3|      7|bakery|\n",
      "| 17|Cranberry Orange ...|     490| 18|  73|    2|      8|bakery|\n",
      "| 18|Double Chocolate ...|     410| 24|  46|    3|      6|bakery|\n",
      "| 19|Double Fudge Mini...|     130|  7|  16|    0|      0|bakery|\n",
      "| 20|Everything with C...|     280|  2|  56|    2|     10|bakery|\n",
      "+---+--------------------+--------+---+----+-----+-------+------+\n",
      "only showing top 20 rows\n",
      "\n"
     ]
    }
   ],
   "source": [
    "#Le renombro una columna ID a la tabla\n",
    "df_to_write = df.withColumnRenamed(\"_c0\",\"id\")\n",
    "df_to_write.printSchema()\n",
    "df_to_write.show()"
   ]
  },
  {
   "cell_type": "code",
   "execution_count": 42,
   "id": "931e4b66-88ce-4823-8fba-88d961ca4083",
   "metadata": {
    "tags": []
   },
   "outputs": [],
   "source": [
    "os.environ['AWS_REDSHIFT_USER']='danisa_altamirano9_coderhouse'\n",
    "os.environ['AWS_REDSHIFT_PASSWORD']='JNl7RO87TW'\n",
    "os.environ['AWS_REDSHIFT_HOST']='data-engineer-cluster.cyhh5bfevlmn.us-east-1.redshift.amazonaws.com'\n",
    "os.environ['AWS_REDSHIFT_PORT']='5439'\n",
    "os.environ['AWS_REDSHIFT_DBNAME']='data-engineer-database'\n",
    "os.environ['AWS_REDSHIFT_SCHEMA']='danisa_altamirano9_coderhouse'"
   ]
  },
  {
   "cell_type": "code",
   "execution_count": 43,
   "id": "a16cb037-e2e5-40b7-a974-fe56b30be33f",
   "metadata": {
    "tags": []
   },
   "outputs": [],
   "source": [
    "# Connect to Redshift using psycopg2\n",
    "conn = psycopg2.connect(\n",
    "    host=env['AWS_REDSHIFT_HOST'],\n",
    "    port=env['AWS_REDSHIFT_PORT'],\n",
    "    dbname=env['AWS_REDSHIFT_DBNAME'],\n",
    "    user=env['AWS_REDSHIFT_USER'],\n",
    "    password=env['AWS_REDSHIFT_PASSWORD']\n",
    ")"
   ]
  },
  {
   "cell_type": "code",
   "execution_count": 44,
   "id": "3433fd0d-bc2a-41c5-b340-bf85cc7479c5",
   "metadata": {
    "tags": []
   },
   "outputs": [
    {
     "name": "stdout",
     "output_type": "stream",
     "text": [
      "Table created!\n"
     ]
    }
   ],
   "source": [
    "cursor = conn.cursor()\n",
    "\n",
    "cursor.execute(f\"\"\"\n",
    "create table if not exists {env['AWS_REDSHIFT_SCHEMA']}.entregable1 (\n",
    "    id int,\n",
    "    item varchar, \n",
    "    calories int, \n",
    "    fiber int, \n",
    "    protein int, \n",
    "    type varchar);\n",
    "\"\"\")\n",
    "conn.commit()\n",
    "cursor.close()\n",
    "print(\"Table created!\")"
   ]
  },
  {
   "cell_type": "code",
   "execution_count": 233,
   "id": "8b3b478d-b1c9-44ca-95a2-fce5b34b34fd",
   "metadata": {
    "tags": []
   },
   "outputs": [
    {
     "name": "stdout",
     "output_type": "stream",
     "text": [
      "\n"
     ]
    }
   ],
   "source": [
    "cursor = conn.cursor()\n",
    "cursor.execute(f\"\"\"\n",
    "SELECT\n",
    "  distinct tablename\n",
    "FROM\n",
    "  PG_TABLE_DEF\n",
    "WHERE\n",
    "  schemaname = '{env['AWS_REDSHIFT_SCHEMA']}';\n",
    "\"\"\")\n",
    "# resultado = cursor.fetchall()\n",
    "print(\", \".join(map(lambda x: x[0], cursor.fetchall())))\n",
    "cursor.close()"
   ]
  },
  {
   "cell_type": "code",
   "execution_count": null,
   "id": "5b103e37-ef66-4c4c-ba65-1322e4853ada",
   "metadata": {
    "tags": []
   },
   "outputs": [],
   "source": [
    "df_to_write.write \\\n",
    "    .format(\"jdbc\") \\\n",
    "    .option(\"url\", f\"jdbc:postgresql://{env['AWS_REDSHIFT_HOST']}:{env['AWS_REDSHIFT_PORT']}/{env['AWS_REDSHIFT_DBNAME']}\") \\\n",
    "    .option(\"dbtable\", f\"{env['AWS_REDSHIFT_SCHEMA']}.entregable1\") \\\n",
    "    .option(\"user\", env['AWS_REDSHIFT_USER']) \\\n",
    "    .option(\"password\", env['AWS_REDSHIFT_PASSWORD']) \\\n",
    "    .option(\"driver\", \"org.postgresql.Driver\") \\\n",
    "    .mode(\"overwrite\") \\\n",
    "    .save()"
   ]
  },
  {
   "cell_type": "markdown",
   "id": "9e016b82-71b0-436e-8d0a-110f297b1559",
   "metadata": {},
   "source": [
    "<b><h1>ENTREGABLE NRO 2<h1><b>"
   ]
  },
  {
   "cell_type": "code",
   "execution_count": 253,
   "id": "32f921cb-4390-4d56-bb40-9a5152b7de05",
   "metadata": {
    "tags": []
   },
   "outputs": [],
   "source": [
    "from sqlalchemy import create_engine\n",
    "import pandas as pd\n",
    "\n"
   ]
  },
  {
   "cell_type": "code",
   "execution_count": 261,
   "id": "360cf58d-687e-4c2f-ab11-f6c383ba4f87",
   "metadata": {
    "tags": []
   },
   "outputs": [],
   "source": [
    "#Renombre el nombre de la columna type\n",
    "df2.rename(columns = {'type':'category'}, inplace = True)"
   ]
  },
  {
   "cell_type": "code",
   "execution_count": 240,
   "id": "52c1a9e4-6027-4d89-a756-380bb8041f24",
   "metadata": {
    "tags": []
   },
   "outputs": [
    {
     "name": "stdout",
     "output_type": "stream",
     "text": [
      "Table created!\n"
     ]
    }
   ],
   "source": [
    "cursor = conn.cursor()\n",
    "\n",
    "cursor.execute(f\"\"\"\n",
    "create table if not exists {env['AWS_REDSHIFT_SCHEMA']}.entregable1_v2 (\n",
    "    id int,\n",
    "    item varchar, \n",
    "    calories int, \n",
    "    fiber int, \n",
    "    protein int, \n",
    "    type varchar);\n",
    "\"\"\")\n",
    "conn.commit()\n",
    "cursor.close()\n",
    "print(\"Table created!\")"
   ]
  },
  {
   "cell_type": "code",
   "execution_count": 234,
   "id": "dfcbc0c6-c14a-44f1-a048-07f91d2b83c4",
   "metadata": {
    "tags": []
   },
   "outputs": [
    {
     "data": {
      "text/html": [
       "<div>\n",
       "<style scoped>\n",
       "    .dataframe tbody tr th:only-of-type {\n",
       "        vertical-align: middle;\n",
       "    }\n",
       "\n",
       "    .dataframe tbody tr th {\n",
       "        vertical-align: top;\n",
       "    }\n",
       "\n",
       "    .dataframe thead th {\n",
       "        text-align: right;\n",
       "    }\n",
       "</style>\n",
       "<table border=\"1\" class=\"dataframe\">\n",
       "  <thead>\n",
       "    <tr style=\"text-align: right;\">\n",
       "      <th></th>\n",
       "      <th>item</th>\n",
       "      <th>calories</th>\n",
       "      <th>fat</th>\n",
       "      <th>carb</th>\n",
       "      <th>fiber</th>\n",
       "      <th>protein</th>\n",
       "      <th>category</th>\n",
       "    </tr>\n",
       "  </thead>\n",
       "  <tbody>\n",
       "    <tr>\n",
       "      <th>1</th>\n",
       "      <td>8-Grain Roll</td>\n",
       "      <td>350</td>\n",
       "      <td>8.0</td>\n",
       "      <td>67</td>\n",
       "      <td>5</td>\n",
       "      <td>10</td>\n",
       "      <td>bakery</td>\n",
       "    </tr>\n",
       "    <tr>\n",
       "      <th>2</th>\n",
       "      <td>Apple Bran Muffin</td>\n",
       "      <td>350</td>\n",
       "      <td>9.0</td>\n",
       "      <td>64</td>\n",
       "      <td>7</td>\n",
       "      <td>6</td>\n",
       "      <td>bakery</td>\n",
       "    </tr>\n",
       "    <tr>\n",
       "      <th>3</th>\n",
       "      <td>Apple Fritter</td>\n",
       "      <td>420</td>\n",
       "      <td>20.0</td>\n",
       "      <td>59</td>\n",
       "      <td>0</td>\n",
       "      <td>5</td>\n",
       "      <td>bakery</td>\n",
       "    </tr>\n",
       "    <tr>\n",
       "      <th>4</th>\n",
       "      <td>Banana Nut Loaf</td>\n",
       "      <td>490</td>\n",
       "      <td>19.0</td>\n",
       "      <td>75</td>\n",
       "      <td>4</td>\n",
       "      <td>7</td>\n",
       "      <td>bakery</td>\n",
       "    </tr>\n",
       "    <tr>\n",
       "      <th>5</th>\n",
       "      <td>Birthday Cake Mini Doughnut</td>\n",
       "      <td>130</td>\n",
       "      <td>6.0</td>\n",
       "      <td>17</td>\n",
       "      <td>0</td>\n",
       "      <td>0</td>\n",
       "      <td>bakery</td>\n",
       "    </tr>\n",
       "    <tr>\n",
       "      <th>...</th>\n",
       "      <td>...</td>\n",
       "      <td>...</td>\n",
       "      <td>...</td>\n",
       "      <td>...</td>\n",
       "      <td>...</td>\n",
       "      <td>...</td>\n",
       "      <td>...</td>\n",
       "    </tr>\n",
       "    <tr>\n",
       "      <th>73</th>\n",
       "      <td>Tarragon Chicken Salad Sandwich</td>\n",
       "      <td>420</td>\n",
       "      <td>13.0</td>\n",
       "      <td>46</td>\n",
       "      <td>6</td>\n",
       "      <td>32</td>\n",
       "      <td>sandwich</td>\n",
       "    </tr>\n",
       "    <tr>\n",
       "      <th>74</th>\n",
       "      <td>Turkey &amp; Swiss Sandwich</td>\n",
       "      <td>390</td>\n",
       "      <td>13.0</td>\n",
       "      <td>36</td>\n",
       "      <td>2</td>\n",
       "      <td>34</td>\n",
       "      <td>sandwich</td>\n",
       "    </tr>\n",
       "    <tr>\n",
       "      <th>75</th>\n",
       "      <td>Greek Yogurt Honey Parfait</td>\n",
       "      <td>300</td>\n",
       "      <td>12.0</td>\n",
       "      <td>44</td>\n",
       "      <td>0</td>\n",
       "      <td>8</td>\n",
       "      <td>parfait</td>\n",
       "    </tr>\n",
       "    <tr>\n",
       "      <th>76</th>\n",
       "      <td>Peach Raspberry Yogurt Parfait</td>\n",
       "      <td>300</td>\n",
       "      <td>4.0</td>\n",
       "      <td>57</td>\n",
       "      <td>3</td>\n",
       "      <td>10</td>\n",
       "      <td>parfait</td>\n",
       "    </tr>\n",
       "    <tr>\n",
       "      <th>77</th>\n",
       "      <td>Strawberry &amp; Blueberry Yogurt Parfait</td>\n",
       "      <td>300</td>\n",
       "      <td>3.5</td>\n",
       "      <td>60</td>\n",
       "      <td>3</td>\n",
       "      <td>7</td>\n",
       "      <td>parfait</td>\n",
       "    </tr>\n",
       "  </tbody>\n",
       "</table>\n",
       "<p>77 rows × 7 columns</p>\n",
       "</div>"
      ],
      "text/plain": [
       "                                     item  calories   fat  carb  fiber   \n",
       "1                            8-Grain Roll       350   8.0    67      5  \\\n",
       "2                       Apple Bran Muffin       350   9.0    64      7   \n",
       "3                           Apple Fritter       420  20.0    59      0   \n",
       "4                         Banana Nut Loaf       490  19.0    75      4   \n",
       "5             Birthday Cake Mini Doughnut       130   6.0    17      0   \n",
       "..                                    ...       ...   ...   ...    ...   \n",
       "73        Tarragon Chicken Salad Sandwich       420  13.0    46      6   \n",
       "74                Turkey & Swiss Sandwich       390  13.0    36      2   \n",
       "75             Greek Yogurt Honey Parfait       300  12.0    44      0   \n",
       "76         Peach Raspberry Yogurt Parfait       300   4.0    57      3   \n",
       "77  Strawberry & Blueberry Yogurt Parfait       300   3.5    60      3   \n",
       "\n",
       "    protein  category  \n",
       "1        10    bakery  \n",
       "2         6    bakery  \n",
       "3         5    bakery  \n",
       "4         7    bakery  \n",
       "5         0    bakery  \n",
       "..      ...       ...  \n",
       "73       32  sandwich  \n",
       "74       34  sandwich  \n",
       "75        8   parfait  \n",
       "76       10   parfait  \n",
       "77        7   parfait  \n",
       "\n",
       "[77 rows x 7 columns]"
      ]
     },
     "execution_count": 234,
     "metadata": {},
     "output_type": "execute_result"
    }
   ],
   "source": [
    "df2"
   ]
  },
  {
   "cell_type": "code",
   "execution_count": 243,
   "id": "769648b8-0bf9-4c2b-90b2-ec0a07c5abb1",
   "metadata": {
    "tags": []
   },
   "outputs": [],
   "source": [
    "df = df2"
   ]
  },
  {
   "cell_type": "code",
   "execution_count": 249,
   "id": "84f268b3-aebb-4528-b893-949af5eb3608",
   "metadata": {
    "tags": []
   },
   "outputs": [],
   "source": [
    "cursor = conn.cursor()\n",
    "df2."
   ]
  },
  {
   "cell_type": "code",
   "execution_count": 246,
   "id": "4c8266f9-3505-44b1-a1f8-c9943046f426",
   "metadata": {
    "tags": []
   },
   "outputs": [],
   "source": [
    "df_to_write.write \\\n",
    "    .format(\"jdbc\") \\\n",
    "    .option(\"url\", f\"jdbc:postgresql://{env['AWS_REDSHIFT_HOST']}:{env['AWS_REDSHIFT_PORT']}/{env['AWS_REDSHIFT_DBNAME']}\") \\\n",
    "    .option(\"dbtable\", f\"{env['AWS_REDSHIFT_SCHEMA']}.entregable1_v2\") \\\n",
    "    .option(\"user\", env['AWS_REDSHIFT_USER']) \\\n",
    "    .option(\"password\", env['AWS_REDSHIFT_PASSWORD']) \\\n",
    "    .option(\"driver\", \"org.postgresql.Driver\") \\\n",
    "    .mode(\"overwrite\") \\\n",
    "    .save()"
   ]
  },
  {
   "cell_type": "code",
   "execution_count": 227,
   "id": "691cc354-ffe8-440c-97e4-51dd28e917d3",
   "metadata": {
    "tags": []
   },
   "outputs": [],
   "source": [
    "#Levanto el DF con la libreria descargada de PANDAS\n",
    "df2=pd.read_csv(\"/home/coder/working_dir/starbucks.csv\", index_col=[0])\n"
   ]
  },
  {
   "cell_type": "code",
   "execution_count": 203,
   "id": "6846ac8b-38f1-42a9-af5e-10e858b8ef47",
   "metadata": {
    "tags": []
   },
   "outputs": [
    {
     "data": {
      "text/plain": [
       "1     False\n",
       "2     False\n",
       "3     False\n",
       "4     False\n",
       "5     False\n",
       "      ...  \n",
       "73    False\n",
       "74    False\n",
       "75    False\n",
       "76    False\n",
       "77    False\n",
       "Length: 77, dtype: bool"
      ]
     },
     "execution_count": 203,
     "metadata": {},
     "output_type": "execute_result"
    }
   ],
   "source": [
    "#Controlar que no haya duplicados\n",
    "df2.duplicated()\n"
   ]
  },
  {
   "cell_type": "code",
   "execution_count": 144,
   "id": "74c8adfb-49bc-4e83-8889-9e9e999a0aa2",
   "metadata": {
    "tags": []
   },
   "outputs": [
    {
     "name": "stdout",
     "output_type": "stream",
     "text": [
      "                                  item  calories   fat  carb  fiber  protein   \n",
      "1                         8-Grain Roll       350   8.0    67      5       10  \\\n",
      "24              Maple Oat Pecan Scone        440  18.0    59      3        8   \n",
      "25                   Marble Pound Cake       350  13.0    54      0        6   \n",
      "26               Marshmallow Dream Bar       210   4.0    43      0        0   \n",
      "27                         Morning Bun       350  16.0    45      2        6   \n",
      "..                                 ...       ...   ...   ...    ...      ...   \n",
      "70                  Ham & Swiss Panini       360   9.0    43      2       28   \n",
      "71  Roasted Tomato & Mozzarella Panini       390  18.0    44      3       15   \n",
      "72            Roasted Vegetable Panini       350  12.0    48      4       13   \n",
      "73     Tarragon Chicken Salad Sandwich       420  13.0    46      6       32   \n",
      "74             Turkey & Swiss Sandwich       390  13.0    36      2       34   \n",
      "\n",
      "        type  \n",
      "1     bakery  \n",
      "24    bakery  \n",
      "25    bakery  \n",
      "26    bakery  \n",
      "27    bakery  \n",
      "..       ...  \n",
      "70  sandwich  \n",
      "71  sandwich  \n",
      "72  sandwich  \n",
      "73  sandwich  \n",
      "74  sandwich  \n",
      "\n",
      "[77 rows x 7 columns]\n"
     ]
    }
   ],
   "source": [
    "#Ordeno el dataframe de acuerdo a los valores de la columna TYPE\n",
    "print(df2.sort_values('type'))"
   ]
  },
  {
   "cell_type": "code",
   "execution_count": 145,
   "id": "5fcf6c7c-feac-4977-b2ae-5cafb10ba2a3",
   "metadata": {
    "tags": []
   },
   "outputs": [
    {
     "name": "stdout",
     "output_type": "stream",
     "text": [
      "                                             item  calories   fat  carb   \n",
      "1                                    8-Grain Roll       350   8.0    67  \\\n",
      "2                               Apple Bran Muffin       350   9.0    64   \n",
      "3                                   Apple Fritter       420  20.0    59   \n",
      "4                                 Banana Nut Loaf       490  19.0    75   \n",
      "5                     Birthday Cake Mini Doughnut       130   6.0    17   \n",
      "6                               Blueberry Oat Bar       370  14.0    47   \n",
      "7                                 Blueberry Scone       460  22.0    61   \n",
      "8                      Bountiful Blueberry Muffin       370  14.0    55   \n",
      "9                               Butter Croissant        310  18.0    32   \n",
      "10                                  Cheese Danish       420  25.0    39   \n",
      "11                         Chocolate Chunk Cookie       380  17.0    51   \n",
      "12                       Chocolate Cinnamon Bread       320  12.0    53   \n",
      "13                            Chocolate Croissant       300  17.0    34   \n",
      "14               Chocolate Old-Fashioned Doughnut       420  21.0    57   \n",
      "15                                   Chonga Bagel       310   5.0    52   \n",
      "16                            Cinnamon Chip Scone       480  18.0    70   \n",
      "17                         Cranberry Orange Scone       490  18.0    73   \n",
      "18                       Double Chocolate Brownie       410  24.0    46   \n",
      "19                     Double Fudge Mini Doughnut       130   7.0    16   \n",
      "20                   Everything with Cheese Bagel       280   2.0    56   \n",
      "21                         Ginger Molasses Cookie       360  12.0    58   \n",
      "22                          Iced Lemon Pound Cake       490  23.0    67   \n",
      "23                           Mallorca Sweet Bread       420  25.0    42   \n",
      "24                         Maple Oat Pecan Scone        440  18.0    59   \n",
      "25                              Marble Pound Cake       350  13.0    54   \n",
      "26                          Marshmallow Dream Bar       210   4.0    43   \n",
      "27                                    Morning Bun       350  16.0    45   \n",
      "28                               Multigrain Bagel       300   3.0    60   \n",
      "29                  Old-Fashioned Glazed Doughnut       420  21.0    57   \n",
      "30                      Outrageous Oatmeal Cookie       370  14.0    56   \n",
      "31                      Petite Vanilla Bean Scone       140   5.0    21   \n",
      "32                                    Plain Bagel       280   1.0    59   \n",
      "33                                  Pumpkin Bread       390  14.0    61   \n",
      "34                                 Pumpkin Scone        480  17.0    78   \n",
      "35                                Raspberry Scone       480  25.0    59   \n",
      "36                     Raspberry Swirl Pound Cake       430  16.0    69   \n",
      "37  Reduced-Fat Banana Chocolate Chip Coffee Cake       400   8.0    80   \n",
      "38         Reduced-Fat Cinnamon Swirl Coffee Cake       340   9.0    62   \n",
      "39            Reduced-Fat Very Berry Coffee Cake        350  10.0    59   \n",
      "40                  Starbucks Classic Coffee Cake       440  19.0    63   \n",
      "41                        Zucchini Walnut Muffin        490  28.0    52   \n",
      "\n",
      "    fiber  protein    type  \n",
      "1       5       10  bakery  \n",
      "2       7        6  bakery  \n",
      "3       0        5  bakery  \n",
      "4       4        7  bakery  \n",
      "5       0        0  bakery  \n",
      "6       5        6  bakery  \n",
      "7       2        7  bakery  \n",
      "8       0        6  bakery  \n",
      "9       0        5  bakery  \n",
      "10      0        7  bakery  \n",
      "11      2        4  bakery  \n",
      "12      3        6  bakery  \n",
      "13      2        5  bakery  \n",
      "14      2        5  bakery  \n",
      "15      3       12  bakery  \n",
      "16      3        7  bakery  \n",
      "17      2        8  bakery  \n",
      "18      3        6  bakery  \n",
      "19      0        0  bakery  \n",
      "20      2       10  bakery  \n",
      "21      0        3  bakery  \n",
      "22      0        5  bakery  \n",
      "23      0        7  bakery  \n",
      "24      3        8  bakery  \n",
      "25      0        6  bakery  \n",
      "26      0        0  bakery  \n",
      "27      2        6  bakery  \n",
      "28      6       15  bakery  \n",
      "29      0        4  bakery  \n",
      "30      3        5  bakery  \n",
      "31      0        0  bakery  \n",
      "32      2        9  bakery  \n",
      "33      2        6  bakery  \n",
      "34      2        6  bakery  \n",
      "35      3        8  bakery  \n",
      "36      0        4  bakery  \n",
      "37      4        5  bakery  \n",
      "38      2        4  bakery  \n",
      "39      4        7  bakery  \n",
      "40      0        6  bakery  \n",
      "41      2        7  bakery  \n"
     ]
    }
   ],
   "source": [
    "print(df2.groupby('type').get_group('bakery'))"
   ]
  },
  {
   "cell_type": "code",
   "execution_count": 146,
   "id": "33e0a5b7-ec1b-4bd7-9a99-0ddb84b7667f",
   "metadata": {
    "tags": []
   },
   "outputs": [],
   "source": [
    "#Agrupo los datos por los distintos tipos de productos\n",
    "df_by_type = df2.groupby(by = \"type\")"
   ]
  },
  {
   "cell_type": "code",
   "execution_count": 147,
   "id": "64fadd2b-2578-4a07-b436-456fca4a7d19",
   "metadata": {
    "tags": []
   },
   "outputs": [
    {
     "data": {
      "text/plain": [
       "{'bakery': [1, 2, 3, 4, 5, 6, 7, 8, 9, 10, 11, 12, 13, 14, 15, 16, 17, 18, 19, 20, 21, 22, 23, 24, 25, 26, 27, 28, 29, 30, 31, 32, 33, 34, 35, 36, 37, 38, 39, 40, 41], 'bistro box': [42, 43, 44, 45, 46, 47, 48, 49], 'hot breakfast': [59, 60, 61, 62, 63, 64, 65, 66], 'parfait': [75, 76, 77], 'petite': [50, 51, 52, 53, 54, 55, 56, 57, 58], 'salad': [67], 'sandwich': [68, 69, 70, 71, 72, 73, 74]}"
      ]
     },
     "execution_count": 147,
     "metadata": {},
     "output_type": "execute_result"
    }
   ],
   "source": [
    "df_by_type.groups"
   ]
  },
  {
   "cell_type": "code",
   "execution_count": 148,
   "id": "3eae8f5b-41f2-4bcb-bed3-c42c7e407a85",
   "metadata": {
    "tags": []
   },
   "outputs": [
    {
     "data": {
      "text/plain": [
       "type\n",
       "bakery           41\n",
       "bistro box        8\n",
       "hot breakfast     8\n",
       "parfait           3\n",
       "petite            9\n",
       "salad             1\n",
       "sandwich          7\n",
       "dtype: int64"
      ]
     },
     "execution_count": 148,
     "metadata": {},
     "output_type": "execute_result"
    }
   ],
   "source": [
    "#Cuantos productos hay por categoria\n",
    "df_by_type.size()"
   ]
  },
  {
   "cell_type": "code",
   "execution_count": 158,
   "id": "2316833b-fce9-4562-a47c-46117223aebd",
   "metadata": {
    "tags": []
   },
   "outputs": [
    {
     "data": {
      "text/plain": [
       "item        Zucchini Walnut Muffin \n",
       "calories                        500\n",
       "fat                            28.0\n",
       "carb                             80\n",
       "fiber                             7\n",
       "protein                          34\n",
       "type                       sandwich\n",
       "dtype: object"
      ]
     },
     "execution_count": 158,
     "metadata": {},
     "output_type": "execute_result"
    }
   ],
   "source": [
    "#Producto con valores generales mas altos\n",
    "df2.max()"
   ]
  },
  {
   "cell_type": "code",
   "execution_count": 188,
   "id": "18d2bd74-88af-4362-aa8a-d76829cdeb78",
   "metadata": {
    "tags": []
   },
   "outputs": [],
   "source": [
    "#Seleccionar las columnas que necesito\n",
    "df3 = df2.columns.isin(['calories','item','type'])"
   ]
  },
  {
   "cell_type": "code",
   "execution_count": 189,
   "id": "76d09d37-1f9c-4a21-8646-5d7b5507b31b",
   "metadata": {
    "tags": []
   },
   "outputs": [],
   "source": [
    "select = df2.columns[df3]"
   ]
  },
  {
   "cell_type": "code",
   "execution_count": 200,
   "id": "a3ef99ce-7e31-47fa-8d3b-096d678d5941",
   "metadata": {
    "tags": []
   },
   "outputs": [
    {
     "data": {
      "text/plain": [
       "item        Zucchini Walnut Muffin \n",
       "calories                        500\n",
       "type                       sandwich\n",
       "dtype: object"
      ]
     },
     "execution_count": 200,
     "metadata": {},
     "output_type": "execute_result"
    }
   ],
   "source": [
    "#producto con mayor calorias\n",
    "df2[select].max()"
   ]
  },
  {
   "cell_type": "code",
   "execution_count": 201,
   "id": "2239843e-7509-432d-b868-30aa0b2e5307",
   "metadata": {
    "tags": []
   },
   "outputs": [
    {
     "data": {
      "text/plain": [
       "item        8-Grain Roll\n",
       "calories              80\n",
       "type              bakery\n",
       "dtype: object"
      ]
     },
     "execution_count": 201,
     "metadata": {},
     "output_type": "execute_result"
    }
   ],
   "source": [
    "#producto con menor calorias\n",
    "df2[select].min()"
   ]
  },
  {
   "cell_type": "code",
   "execution_count": 196,
   "id": "39717b6f-6829-43fb-b458-0bd548f32c7a",
   "metadata": {
    "tags": []
   },
   "outputs": [],
   "source": [
    "df4 = df2.columns.isin(['fiber','item','type'])"
   ]
  },
  {
   "cell_type": "code",
   "execution_count": 197,
   "id": "1e3ef396-8f0e-48c6-a6ef-2dfa5ab05bdb",
   "metadata": {
    "tags": []
   },
   "outputs": [],
   "source": [
    "select1 = df2.columns[df4]"
   ]
  },
  {
   "cell_type": "code",
   "execution_count": 199,
   "id": "6c505474-6541-4b8d-95e8-aae1f566ced2",
   "metadata": {
    "tags": []
   },
   "outputs": [
    {
     "data": {
      "text/plain": [
       "item     Zucchini Walnut Muffin \n",
       "fiber                          7\n",
       "type                    sandwich\n",
       "dtype: object"
      ]
     },
     "execution_count": 199,
     "metadata": {},
     "output_type": "execute_result"
    }
   ],
   "source": [
    "#producto con mayor fibras\n",
    "df2[select1].max()"
   ]
  },
  {
   "cell_type": "code",
   "execution_count": null,
   "id": "e82eed39-f71b-4f67-aadf-8981be5282bd",
   "metadata": {},
   "outputs": [],
   "source": []
  }
 ],
 "metadata": {
  "kernelspec": {
   "display_name": "Python 3 (ipykernel)",
   "language": "python",
   "name": "python3"
  },
  "language_info": {
   "codemirror_mode": {
    "name": "ipython",
    "version": 3
   },
   "file_extension": ".py",
   "mimetype": "text/x-python",
   "name": "python",
   "nbconvert_exporter": "python",
   "pygments_lexer": "ipython3",
   "version": "3.10.10"
  }
 },
 "nbformat": 4,
 "nbformat_minor": 5
}
